{
 "cells": [
  {
   "cell_type": "code",
   "execution_count": 4,
   "metadata": {},
   "outputs": [],
   "source": [
    "import pandas as pd\n",
    "import numpy as np\n",
    "from sklearn import datasets"
   ]
  },
  {
   "cell_type": "code",
   "execution_count": 6,
   "metadata": {},
   "outputs": [
    {
     "data": {
      "text/plain": [
       "sklearn.utils.Bunch"
      ]
     },
     "execution_count": 6,
     "metadata": {},
     "output_type": "execute_result"
    }
   ],
   "source": [
    "iris_data = datasets.load_iris()\n",
    "type(iris_data)"
   ]
  },
  {
   "cell_type": "code",
   "execution_count": 10,
   "metadata": {},
   "outputs": [
    {
     "data": {
      "text/plain": [
       "((150, 4), (150,))"
      ]
     },
     "execution_count": 10,
     "metadata": {},
     "output_type": "execute_result"
    }
   ],
   "source": [
    "iris_data.data.shape, iris_data.target.shape"
   ]
  },
  {
   "cell_type": "code",
   "execution_count": 11,
   "metadata": {},
   "outputs": [
    {
     "data": {
      "text/plain": [
       "array([[5.1, 3.5, 1.4, 0.2],\n",
       "       [4.9, 3. , 1.4, 0.2],\n",
       "       [4.7, 3.2, 1.3, 0.2],\n",
       "       [4.6, 3.1, 1.5, 0.2],\n",
       "       [5. , 3.6, 1.4, 0.2]])"
      ]
     },
     "execution_count": 11,
     "metadata": {},
     "output_type": "execute_result"
    }
   ],
   "source": [
    "iris_data.data[:5]"
   ]
  },
  {
   "cell_type": "code",
   "execution_count": 20,
   "metadata": {},
   "outputs": [
    {
     "name": "stdout",
     "output_type": "stream",
     "text": [
      "[[-0.90068117  1.01900435 -1.34022653 -1.3154443 ]\n",
      " [-1.14301691 -0.13197948 -1.34022653 -1.3154443 ]\n",
      " [-1.38535265  0.32841405 -1.39706395 -1.3154443 ]\n",
      " [-1.50652052  0.09821729 -1.2833891  -1.3154443 ]\n",
      " [-1.02184904  1.24920112 -1.34022653 -1.3154443 ]]\n",
      "[[0.80377277 0.55160877 0.22064351 0.0315205 ]\n",
      " [0.82813287 0.50702013 0.23660939 0.03380134]\n",
      " [0.80533308 0.54831188 0.2227517  0.03426949]\n",
      " [0.80003025 0.53915082 0.26087943 0.03478392]\n",
      " [0.790965   0.5694948  0.2214702  0.0316386 ]]\n"
     ]
    }
   ],
   "source": [
    "from sklearn.preprocessing import StandardScaler, Normalizer\n",
    "\n",
    "std_scalar = StandardScaler()\n",
    "std_scalar.fit(iris_data.data)\n",
    "std_data = std_scalar.transform(iris_data.data)\n",
    "print(std_data[:5])\n",
    "\n",
    "norm = Normalizer()\n",
    "norm.fit(iris_data.data)\n",
    "norm_data = norm.transform(iris_data.data)\n",
    "print(norm_data[:5])"
   ]
  },
  {
   "cell_type": "code",
   "execution_count": 13,
   "metadata": {},
   "outputs": [],
   "source": [
    "from sklearn.model_selection import train_test_split\n",
    "\n",
    "X_train, X_test, y_train, y_test = train_test_split(std_data, iris_data.target, test_size=0.20)"
   ]
  },
  {
   "cell_type": "code",
   "execution_count": 14,
   "metadata": {},
   "outputs": [],
   "source": [
    "from sklearn.neighbors import KNeighborsClassifier\n",
    "from sklearn.model_selection import cross_val_score\n",
    "from sklearn.metrics import classification_report, confusion_matrix, accuracy_score\n",
    "\n",
    "train_accuracy = []\n",
    "test_accuracy = []\n",
    "for k in range(3, 50, 4):\n",
    "    knn = KNeighborsClassifier(n_neighbors=k)\n",
    "    knn.fit(X_train, y_train)\n",
    "    train_accuracy.append(accuracy_score(y_train, knn.predict(X_train)))\n",
    "    test_accuracy.append(accuracy_score(y_test, knn.predict(X_test)))\n"
   ]
  },
  {
   "cell_type": "code",
   "execution_count": 17,
   "metadata": {},
   "outputs": [
    {
     "name": "stdout",
     "output_type": "stream",
     "text": [
      "k:3 train_accuracy:0.9416666666666667 test_accuracy:1.0\n",
      "k:7 train_accuracy:0.9416666666666667 test_accuracy:1.0\n",
      "k:11 train_accuracy:0.95 test_accuracy:1.0\n",
      "k:15 train_accuracy:0.95 test_accuracy:1.0\n",
      "k:19 train_accuracy:0.95 test_accuracy:0.9666666666666667\n",
      "k:23 train_accuracy:0.95 test_accuracy:1.0\n",
      "k:27 train_accuracy:0.9416666666666667 test_accuracy:1.0\n",
      "k:31 train_accuracy:0.9333333333333333 test_accuracy:0.9666666666666667\n",
      "k:35 train_accuracy:0.9 test_accuracy:0.9333333333333333\n",
      "k:39 train_accuracy:0.8916666666666667 test_accuracy:0.9\n",
      "k:43 train_accuracy:0.8916666666666667 test_accuracy:0.9\n",
      "k:47 train_accuracy:0.8833333333333333 test_accuracy:0.8666666666666667\n"
     ]
    }
   ],
   "source": [
    "index=0\n",
    "for k in range(3, 50, 4):\n",
    "    print(\"k:{} train_accuracy:{} test_accuracy:{}\".format(k,train_accuracy[index], test_accuracy[index]))\n",
    "    index += 1"
   ]
  },
  {
   "cell_type": "code",
   "execution_count": 22,
   "metadata": {},
   "outputs": [
    {
     "name": "stdout",
     "output_type": "stream",
     "text": [
      "k:3 auc:0.9533333333333334 std_auc:0.9666666666666668 norm_auc:0.9800000000000001\n",
      "k:7 auc:0.9533333333333334 std_auc:0.9800000000000001 norm_auc:0.96\n",
      "k:11 auc:0.9466666666666665 std_auc:0.9800000000000001 norm_auc:0.9666666666666668\n",
      "k:15 auc:0.9466666666666667 std_auc:0.9666666666666668 norm_auc:0.9733333333333334\n",
      "k:19 auc:0.9533333333333334 std_auc:0.9666666666666668 norm_auc:0.9800000000000001\n",
      "k:23 auc:0.9333333333333332 std_auc:0.96 norm_auc:0.9733333333333334\n",
      "k:27 auc:0.9399999999999998 std_auc:0.9466666666666667 norm_auc:0.9733333333333334\n",
      "k:31 auc:0.9266666666666665 std_auc:0.9333333333333332 norm_auc:0.9733333333333334\n",
      "k:35 auc:0.9066666666666666 std_auc:0.9533333333333334 norm_auc:0.9800000000000001\n",
      "k:39 auc:0.9 std_auc:0.9400000000000001 norm_auc:0.9733333333333334\n",
      "k:43 auc:0.8733333333333334 std_auc:0.9400000000000001 norm_auc:0.9733333333333334\n",
      "k:47 auc:0.8666666666666668 std_auc:0.9266666666666667 norm_auc:0.9733333333333334\n"
     ]
    }
   ],
   "source": [
    "cv_accuracy_with_actual_data = []\n",
    "cv_accuracy_with_std = []\n",
    "cv_accuracy_with_norm = []\n",
    "\n",
    "for k in range(3, 50, 4):\n",
    "    knn = KNeighborsClassifier(n_neighbors=k)\n",
    "    cv_accuracy_with_actual_data.append(np.mean(cross_val_score(knn, iris_data.data, iris_data.target)))\n",
    "    cv_accuracy_with_std.append(np.mean(cross_val_score(knn, std_data, iris_data.target)))\n",
    "    cv_accuracy_with_norm.append(np.mean(cross_val_score(knn, norm_data, iris_data.target)))\n",
    "\n",
    "index = 0\n",
    "for k in range(3, 50, 4):\n",
    "    print(\"k:{} auc:{} std_auc:{} norm_auc:{}\".format(k, cv_accuracy_with_std[index], cv_accuracy_without_std[index], cv_accuracy_with_norm[index]))\n",
    "    index += 1\n"
   ]
  },
  {
   "cell_type": "markdown",
   "metadata": {},
   "source": [
    "##### Normalization wo"
   ]
  },
  {
   "cell_type": "code",
   "execution_count": null,
   "metadata": {},
   "outputs": [],
   "source": []
  },
  {
   "cell_type": "code",
   "execution_count": null,
   "metadata": {},
   "outputs": [],
   "source": []
  }
 ],
 "metadata": {
  "kernelspec": {
   "display_name": "Python 3",
   "language": "python",
   "name": "python3"
  },
  "language_info": {
   "codemirror_mode": {
    "name": "ipython",
    "version": 3
   },
   "file_extension": ".py",
   "mimetype": "text/x-python",
   "name": "python",
   "nbconvert_exporter": "python",
   "pygments_lexer": "ipython3",
   "version": "3.6.10"
  }
 },
 "nbformat": 4,
 "nbformat_minor": 4
}
